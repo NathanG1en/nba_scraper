{
 "cells": [
  {
   "metadata": {
    "ExecuteTime": {
     "end_time": "2025-05-31T20:06:28.715976Z",
     "start_time": "2025-05-31T20:06:28.712806Z"
    }
   },
   "cell_type": "code",
   "source": [
    "from dotenv import load_dotenv\n",
    "import requests\n",
    "import os\n",
    "from math import exp\n",
    "from twilio.rest import Client"
   ],
   "id": "915b2d71a6417087",
   "outputs": [],
   "execution_count": 31
  },
  {
   "metadata": {},
   "cell_type": "code",
   "outputs": [],
   "execution_count": null,
   "source": "",
   "id": "e3477df087f8d32d"
  },
  {
   "metadata": {
    "collapsed": true,
    "ExecuteTime": {
     "end_time": "2025-05-31T20:06:11.869151Z",
     "start_time": "2025-05-31T20:06:11.606365Z"
    }
   },
   "cell_type": "code",
   "source": [
    "def get_nba_scores():\n",
    "    url = \"https://site.api.espn.com/apis/site/v2/sports/basketball/nba/scoreboard\"\n",
    "    response = requests.get(url)\n",
    "    data = response.json()\n",
    "\n",
    "    games = []\n",
    "    for event in data['events']:\n",
    "        competition = event['competitions'][0]\n",
    "        home = competition['competitors'][0]\n",
    "        away = competition['competitors'][1]\n",
    "        games.append({\n",
    "            'home_team': home['team']['displayName'],\n",
    "            'home_score': home['score'],\n",
    "            'away_team': away['team']['displayName'],\n",
    "            'away_score': away['score'],\n",
    "            'status': competition['status']['type']['description']\n",
    "        })\n",
    "\n",
    "    return games\n",
    "\n",
    "# Example usage\n",
    "for game in get_nba_scores():\n",
    "    print(game)\n"
   ],
   "id": "initial_id",
   "outputs": [
    {
     "name": "stdout",
     "output_type": "stream",
     "text": [
      "{'home_team': 'Indiana Pacers', 'home_score': '0', 'away_team': 'New York Knicks', 'away_score': '0', 'status': 'Scheduled'}\n"
     ]
    }
   ],
   "execution_count": 26
  },
  {
   "metadata": {
    "ExecuteTime": {
     "end_time": "2025-05-31T20:06:15.513724Z",
     "start_time": "2025-05-31T20:06:15.510203Z"
    }
   },
   "cell_type": "code",
   "source": [
    "# really simple win probability func\n",
    "def win_prob(score_diff, time_remaining_seconds):\n",
    "    \"\"\"\n",
    "    Simple model: win prob for team leading.\n",
    "    \"\"\"\n",
    "    if time_remaining_seconds <= 0:\n",
    "        return 1.0 if score_diff > 0 else 0.0\n",
    "\n",
    "    k = 0.045  # steepness factor\n",
    "    midpoint = 0  # centered @ score_diff = 0\n",
    "\n",
    "    # Add weight for time remaining\n",
    "    time_factor = 1 - (time_remaining_seconds / 2880)  # 48 mins => 2880 sec\n",
    "    adjusted_diff = score_diff * time_factor\n",
    "\n",
    "    prob = 1 / (1 + exp(-k * (adjusted_diff - midpoint)))\n",
    "    return round(prob, 3)\n"
   ],
   "id": "d225b6f37240e057",
   "outputs": [],
   "execution_count": 27
  },
  {
   "metadata": {
    "ExecuteTime": {
     "end_time": "2025-05-31T20:06:16.894925Z",
     "start_time": "2025-05-31T20:06:16.891562Z"
    }
   },
   "cell_type": "code",
   "source": [
    "# Example: 4 pt lead, 300 sec (5 mins left), calculate win prodb\n",
    "win_prob(4, 300)"
   ],
   "id": "50947ecdca94b284",
   "outputs": [
    {
     "data": {
      "text/plain": [
       "0.54"
      ]
     },
     "execution_count": 28,
     "metadata": {},
     "output_type": "execute_result"
    }
   ],
   "execution_count": 28
  },
  {
   "metadata": {
    "ExecuteTime": {
     "end_time": "2025-05-31T20:06:17.763212Z",
     "start_time": "2025-05-31T20:06:17.759486Z"
    }
   },
   "cell_type": "code",
   "source": [
    "def parse_game_time(period, clock):\n",
    "    # period: 1–4 for quarters, 5+ for OT\n",
    "    # clock: mm:ss\n",
    "    minutes, seconds = map(int, clock.split(\":\"))\n",
    "    elapsed = (period - 1) * 720 + (60 - minutes) * 60 + (60 - seconds)  # crude\n",
    "    return max(0, 2880 - elapsed)  # total regulation = 2880 seconds\n"
   ],
   "id": "bdf725709a92ddec",
   "outputs": [],
   "execution_count": 29
  },
  {
   "metadata": {
    "ExecuteTime": {
     "end_time": "2025-05-31T20:06:22.660016Z",
     "start_time": "2025-05-31T20:06:22.655352Z"
    }
   },
   "cell_type": "code",
   "source": [
    "FAVORITE_TEAM = \"Indiana Pacers\"  # Customize this\n",
    "def monitor_games_and_alert():\n",
    "    games = get_nba_scores()\n",
    "    for game in games:\n",
    "        if game['status'] != \"In Progress\":\n",
    "            continue\n",
    "\n",
    "        # Determine if favorite team is playing\n",
    "        if FAVORITE_TEAM in [game['home_team'], game['away_team']]:\n",
    "            score_diff = int(game['home_score']) - int(game['away_score'])\n",
    "            if game['away_team'] == FAVORITE_TEAM:\n",
    "                score_diff = -score_diff\n",
    "\n",
    "            competition = game['status']\n",
    "            clock = game.get(\"clock\", \"0:00\")\n",
    "            period = int(game.get(\"period\", {}).get(\"number\", 1))\n",
    "            time_left = parse_game_time(period, clock)\n",
    "\n",
    "            prob = win_prob(score_diff, time_left)\n",
    "            losing_prob = 1 - prob\n",
    "\n",
    "            if losing_prob > 0.8:\n",
    "                send_text_alert(FAVORITE_TEAM, losing_prob)\n"
   ],
   "id": "36564067a0f5ed1",
   "outputs": [],
   "execution_count": 30
  },
  {
   "metadata": {
    "ExecuteTime": {
     "end_time": "2025-05-31T19:03:16.488521Z",
     "start_time": "2025-05-31T19:03:16.485022Z"
    }
   },
   "cell_type": "code",
   "source": [
    "def send_text_alert(team, prob):\n",
    "    account_sid = os.getenv('ACCOUNT_SID')\n",
    "    auth_token = os.getenv('AUTH_TOKEN')\n",
    "    from_phone = os.getenv('FROM_PHONE')  # Twilio number\n",
    "    to_phone = os.getenv('TO_PHONE')  # Your phone\n",
    "\n",
    "    client = Client(account_sid, auth_token)\n",
    "    message = client.messages.create(\n",
    "        body=f\"ALERT: {team} has an {round(prob*100)}% chance of losing!\",\n",
    "        from_=from_phone,\n",
    "        to=to_phone\n",
    "    )\n",
    "    print(\"Alert sent:\", message.sid)"
   ],
   "id": "28d4db78863ceaa7",
   "outputs": [],
   "execution_count": 22
  },
  {
   "metadata": {
    "ExecuteTime": {
     "end_time": "2025-05-31T20:12:20.045559Z",
     "start_time": "2025-05-31T20:12:19.497282Z"
    }
   },
   "cell_type": "code",
   "source": "send_text_alert(\"Pacers\", 2)",
   "id": "7586f2277189e72b",
   "outputs": [
    {
     "name": "stdout",
     "output_type": "stream",
     "text": [
      "Alert sent: SM5cae130ecc9fa418b35161c9b3c5b61f\n"
     ]
    }
   ],
   "execution_count": 32
  },
  {
   "metadata": {},
   "cell_type": "code",
   "outputs": [],
   "execution_count": null,
   "source": "",
   "id": "93fa36288cd17300"
  }
 ],
 "metadata": {
  "kernelspec": {
   "display_name": "Python 3",
   "language": "python",
   "name": "python3"
  },
  "language_info": {
   "codemirror_mode": {
    "name": "ipython",
    "version": 2
   },
   "file_extension": ".py",
   "mimetype": "text/x-python",
   "name": "python",
   "nbconvert_exporter": "python",
   "pygments_lexer": "ipython2",
   "version": "2.7.6"
  }
 },
 "nbformat": 4,
 "nbformat_minor": 5
}
